{
 "cells": [
  {
   "cell_type": "code",
   "execution_count": 1,
   "metadata": {},
   "outputs": [],
   "source": [
    "import gradio as gr\n",
    "from api import request_bmi, request_prediction\n",
    "from config import CONFIG\n"
   ]
  },
  {
   "cell_type": "markdown",
   "metadata": {},
   "source": [
    "### Demo"
   ]
  },
  {
   "cell_type": "code",
   "execution_count": 4,
   "metadata": {},
   "outputs": [
    {
     "name": "stdout",
     "output_type": "stream",
     "text": [
      "Running on local URL:  http://127.0.0.1:7862\n",
      "\n",
      "To create a public link, set `share=True` in `launch()`.\n"
     ]
    },
    {
     "data": {
      "text/html": [
       "<div><iframe src=\"http://127.0.0.1:7862/\" width=\"100%\" height=\"500\" allow=\"autoplay; camera; microphone; clipboard-read; clipboard-write;\" frameborder=\"0\" allowfullscreen></iframe></div>"
      ],
      "text/plain": [
       "<IPython.core.display.HTML object>"
      ]
     },
     "metadata": {},
     "output_type": "display_data"
    }
   ],
   "source": [
    "#demo\n",
    "\n",
    "\n",
    "with gr.Blocks() as demo:\n",
    "    gr.Markdown(\"\"\" \n",
    "                    # Stroke Predictor  \n",
    "                    This model takes user submitted information and makes a prediction of whether that information is predicted to\n",
    "                    result in a stroke. [A stroke, sometimes called a brain attack, occurs when something blocks blood supply to \n",
    "                    part of the brain or when a blood vessel in the brain bursts. \n",
    "                    In either case, parts of the brain become damaged or die.](https://www.cdc.gov/stroke/about.htm#:~:text=A%20stroke%2C%20sometimes%20called%20a,brain%20become%20damaged%20or%20die.)\n",
    "\n",
    "                \"\"\")\n",
    "    gr.Markdown(\"\"\"\n",
    "                        *Disclaimer: This demo is for educational purposes only. I'm not a doctor and this is not intended to\n",
    "                        inform any medical decisions.*\n",
    "                        \"\"\")\n",
    "    # calc bmi logic \n",
    "    with gr.Row():\n",
    "        with gr.Column():\n",
    "            gr.Markdown(\"\"\"\n",
    "                            ## Inputs\n",
    "                            Please input your information below.\n",
    "                            \"\"\")\n",
    "            with gr.Row():\n",
    "            \n",
    "                h_text = gr.Number(label = \"Height\", minimum = 1)\n",
    "                h_unit = gr.Radio([\"in\", \"m\"], label = \"Height units\")\n",
    "                w_text = gr.Number(label = \"Weight\", minimum = 1)\n",
    "                w_unit = gr.Radio([\"lb\", \"kg\"], label = \"Weight units\")\n",
    "\n",
    "            with gr.Row():\n",
    "                add_btn = gr.Button(value = \"Submit\")\n",
    "\n",
    "            with gr.Row(): \n",
    "                bmi = gr.Number(label = \"BMI\", interactive = False, precision = 1)\n",
    "                run_status = gr.Text(label= \"Run Status\")\n",
    "            \n",
    "            add_btn.click(request_bmi, inputs=[h_text, h_unit, w_text, w_unit], outputs={run_status, bmi})\n",
    "            \n",
    "            # get the rest of the inputs and input bmi\n",
    "            with gr.Row():\n",
    "                age_in = gr.Number(label = \"Age\", minimum = 2)\n",
    "                gend_in = gr.Radio(choices = [\"Male\", \"Female\"], label=\"Gender?\")\n",
    "                marr_in = gr.Radio(choices = [\"Yes\", \"No\"], label=\"Ever Married?\")\n",
    "\n",
    "            with gr.Row():\n",
    "                res_in = gr.Radio(choices = [\"Urban\", \"Rural\"], label=\"Residence Type\")\n",
    "                hyp_in = gr.Radio(choices = [\"Yes\", \"No\"], label=\"Hypertension?\")\n",
    "                hdis_in = gr.Radio(choices = [\"Yes\", \"No\"], label=\"Heart Disease?\")\n",
    "\n",
    "            with gr.Row():    \n",
    "                smoke_in = gr.Radio(label = \"Smoking Status\", choices = [\"smokes\", \"never smoked\", \"formerly smoked\", \"Unknown\"], show_label = True)\n",
    "                \n",
    "            with gr.Row():\n",
    "                submit_btn = gr.Button(\"Submit\")\n",
    "            \n",
    "\n",
    "        with gr.Column():\n",
    "            with gr.Row():\n",
    "                gr.Markdown(\"\"\"\n",
    "                            ## Prediction\n",
    "                            After information submission, your prediction will appear here.\n",
    "                            \"\"\")\n",
    "            pred = gr.Textbox(value = \"...\", label = \"Prediction\")\n",
    "            disclaimer = gr.PlayableVideo(value = CONFIG[\"NOT_DOC\"])\n",
    "            submit_btn.click(request_prediction, inputs = [age_in, gend_in, res_in, hyp_in, hdis_in, smoke_in, marr_in, bmi], outputs= pred)\n",
    "\n",
    "if __name__ == \"__main__\":\n",
    "    demo.launch()"
   ]
  }
 ],
 "metadata": {
  "kernelspec": {
   "display_name": "Python 3",
   "language": "python",
   "name": "python3"
  },
  "language_info": {
   "codemirror_mode": {
    "name": "ipython",
    "version": 3
   },
   "file_extension": ".py",
   "mimetype": "text/x-python",
   "name": "python",
   "nbconvert_exporter": "python",
   "pygments_lexer": "ipython3",
   "version": "3.10.2"
  },
  "orig_nbformat": 4
 },
 "nbformat": 4,
 "nbformat_minor": 2
}
