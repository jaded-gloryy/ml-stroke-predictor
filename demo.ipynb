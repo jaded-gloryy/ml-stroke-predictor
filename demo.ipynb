{
 "cells": [
  {
   "cell_type": "code",
   "execution_count": 1,
   "metadata": {},
   "outputs": [],
   "source": [
    "import os\n",
    "import traceback\n",
    "\n",
    "import gradio as gr\n",
    "\n",
    "import classes.BMICalculator as bmic\n",
    "\n",
    "\n",
    "def calc_bmi(data):\n",
    "        height = data[h_text]\n",
    "        height_unit = data[h_unit][0]\n",
    "        weight = data[w_text]\n",
    "        weight_unit = data[w_unit][0]\n",
    "    \n",
    "        if height_unit == \"m\":\n",
    "            imp_obj = bmic.MetricBMICalculator(weight_kg = weight, height_m = height)\n",
    "            bmi = imp_obj.calculate()\n",
    "        else:\n",
    "            imp_obj = bmic.ImperialBMICalculator(weight_lb = weight, height_in = height)\n",
    "            bmi = imp_obj.calculate()\n",
    "        \n",
    "        return bmi\n",
    "\n",
    "def isfloat(num):\n",
    "    try:\n",
    "        float(num)\n",
    "        return True\n",
    "    except ValueError:\n",
    "        return False\n",
    "\n",
    "def request_bmi(data):\n",
    "    \"\"\"Validate input, request bmi\"\"\"\n",
    "\n",
    "    try:\n",
    "        run_status = \"Successful run!\"\n",
    "        valid_input = validate_input(data)\n",
    "        \n",
    "        if not valid_input:\n",
    "            raise Exception(run_status)\n",
    "\n",
    "        bmi = calc_bmi(data)\n",
    "        return bmi , run_status\n",
    "    \n",
    "    except Exception as error:\n",
    "        traceback.print_exc()\n",
    "        print (str(error))\n",
    "        return 0, str(error)\n",
    "\n",
    "def validate_input(data):\n",
    "        \"\"\" \n",
    "        Validate that one unit type was selected and that each is a number.\n",
    "        \"\"\"\n",
    "        \n",
    "        height = data[h_text]\n",
    "        weight = data[w_text]\n",
    "        height_unit = data[h_unit]\n",
    "        weight_unit = data[w_unit]\n",
    "\n",
    "        len_height_unit = len(data[h_unit])\n",
    "        len_weight_unit = len(data[w_unit])\n",
    "        \n",
    "        # check if multiple units are selected\n",
    "        multiple_units_selected = any(i != 1 for i in [len_height_unit, len_weight_unit])\n",
    "\n",
    "        if multiple_units_selected:\n",
    "            run_status = \"Please select one unit each for height and weight, then submit again.\"\n",
    "            raise Exception(run_status)\n",
    "\n",
    "        # check if units are consistent\n",
    "        imperial = [\"in\", \"lb\"]\n",
    "        metric = [\"m\", \"kg\"]\n",
    "        combined_weight_height = height_unit + weight_unit\n",
    "        is_imperial = set(imperial) == set(combined_weight_height)\n",
    "        is_metric = set(metric) == set(combined_weight_height)\n",
    "        consistent = any([is_imperial, is_metric])\n",
    "        \n",
    "        if not consistent:\n",
    "             run_status = \"BMI input units need to be consitently metric (kg and m) or imperial (in and lb). Please try again\"\n",
    "             raise Exception(run_status)\n",
    "        \n",
    "        # check that each only contains numbers\n",
    "        valid_input = all(isfloat(i) for i in [height,weight])\n",
    "\n",
    "        if not valid_input:\n",
    "            run_status = \"All inputs must be numeric\"\n",
    "            raise Exception(run_status)\n",
    "\n",
    "        return valid_input\n",
    "\n"
   ]
  },
  {
   "cell_type": "markdown",
   "metadata": {},
   "source": [
    "### Demo"
   ]
  },
  {
   "cell_type": "code",
   "execution_count": 2,
   "metadata": {},
   "outputs": [
    {
     "name": "stderr",
     "output_type": "stream",
     "text": [
      "/var/folders/18/918s5vr16kl9091zgnswr5gm0000gn/T/ipykernel_7519/2436472148.py:3: GradioUnusedKwargWarning: You have unused kwarg parameters in Blocks, please remove them: {'live': True}\n",
      "  with gr.Blocks(live=True) as demo:\n"
     ]
    },
    {
     "name": "stdout",
     "output_type": "stream",
     "text": [
      "Running on local URL:  http://127.0.0.1:7863\n",
      "\n",
      "To create a public link, set `share=True` in `launch()`.\n"
     ]
    },
    {
     "data": {
      "text/html": [
       "<div><iframe src=\"http://127.0.0.1:7863/\" width=\"100%\" height=\"500\" allow=\"autoplay; camera; microphone; clipboard-read; clipboard-write;\" frameborder=\"0\" allowfullscreen></iframe></div>"
      ],
      "text/plain": [
       "<IPython.core.display.HTML object>"
      ]
     },
     "metadata": {},
     "output_type": "display_data"
    },
    {
     "name": "stderr",
     "output_type": "stream",
     "text": [
      "Traceback (most recent call last):\n",
      "  File \"/var/folders/18/918s5vr16kl9091zgnswr5gm0000gn/T/ipykernel_7519/1409711140.py\", line 36, in request_bmi\n",
      "    valid_input = validate_input(data)\n",
      "  File \"/var/folders/18/918s5vr16kl9091zgnswr5gm0000gn/T/ipykernel_7519/1409711140.py\", line 67, in validate_input\n",
      "    raise Exception(run_status)\n",
      "Exception: Please select one unit each for height and weight, then submit again.\n"
     ]
    },
    {
     "name": "stdout",
     "output_type": "stream",
     "text": [
      "Please select one unit each for height and weight, then submit again.\n"
     ]
    },
    {
     "name": "stderr",
     "output_type": "stream",
     "text": [
      "Traceback (most recent call last):\n",
      "  File \"/var/folders/18/918s5vr16kl9091zgnswr5gm0000gn/T/ipykernel_7519/1409711140.py\", line 36, in request_bmi\n",
      "    valid_input = validate_input(data)\n",
      "  File \"/var/folders/18/918s5vr16kl9091zgnswr5gm0000gn/T/ipykernel_7519/1409711140.py\", line 67, in validate_input\n",
      "    raise Exception(run_status)\n",
      "Exception: Please select one unit each for height and weight, then submit again.\n"
     ]
    },
    {
     "name": "stdout",
     "output_type": "stream",
     "text": [
      "Please select one unit each for height and weight, then submit again.\n"
     ]
    },
    {
     "name": "stderr",
     "output_type": "stream",
     "text": [
      "Traceback (most recent call last):\n",
      "  File \"/var/folders/18/918s5vr16kl9091zgnswr5gm0000gn/T/ipykernel_7519/1409711140.py\", line 36, in request_bmi\n",
      "    valid_input = validate_input(data)\n",
      "  File \"/var/folders/18/918s5vr16kl9091zgnswr5gm0000gn/T/ipykernel_7519/1409711140.py\", line 67, in validate_input\n",
      "    raise Exception(run_status)\n",
      "Exception: Please select one unit each for height and weight, then submit again.\n"
     ]
    },
    {
     "name": "stdout",
     "output_type": "stream",
     "text": [
      "Please select one unit each for height and weight, then submit again.\n"
     ]
    },
    {
     "name": "stderr",
     "output_type": "stream",
     "text": [
      "Traceback (most recent call last):\n",
      "  File \"/var/folders/18/918s5vr16kl9091zgnswr5gm0000gn/T/ipykernel_7519/1409711140.py\", line 36, in request_bmi\n",
      "    valid_input = validate_input(data)\n",
      "  File \"/var/folders/18/918s5vr16kl9091zgnswr5gm0000gn/T/ipykernel_7519/1409711140.py\", line 67, in validate_input\n",
      "    raise Exception(run_status)\n",
      "Exception: Please select one unit each for height and weight, then submit again.\n"
     ]
    },
    {
     "name": "stdout",
     "output_type": "stream",
     "text": [
      "Please select one unit each for height and weight, then submit again.\n"
     ]
    },
    {
     "name": "stderr",
     "output_type": "stream",
     "text": [
      "Traceback (most recent call last):\n",
      "  File \"/var/folders/18/918s5vr16kl9091zgnswr5gm0000gn/T/ipykernel_7519/1409711140.py\", line 36, in request_bmi\n",
      "    valid_input = validate_input(data)\n",
      "  File \"/var/folders/18/918s5vr16kl9091zgnswr5gm0000gn/T/ipykernel_7519/1409711140.py\", line 86, in validate_input\n",
      "    raise Exception(run_status)\n",
      "Exception: All inputs must be numeric\n"
     ]
    },
    {
     "name": "stdout",
     "output_type": "stream",
     "text": [
      "All inputs must be numeric\n"
     ]
    }
   ],
   "source": [
    "#demo\n",
    "\n",
    "with gr.Blocks(live=True) as demo:\n",
    "    \n",
    "    # calc bmi logic \n",
    "    h_text = gr.Textbox(label = \"Height\")\n",
    "    h_unit = gr.CheckboxGroup([\"in\", \"m\"], label = \"Height units\")\n",
    "    w_text = gr.Textbox(label = \"Weight\")\n",
    "    w_unit = gr.CheckboxGroup([\"lb\", \"kg\"], label = \"Weight units\")\n",
    "\n",
    "    \n",
    "    bmi = gr.Number(label = \"BMI\")\n",
    "    run_status = gr.Text(label= \"Run Status\")\n",
    "    \n",
    "    with gr.Row():\n",
    "        add_btn = gr.Button(\"Submit\")\n",
    "    \n",
    "    add_btn.click(request_bmi, inputs={h_text, h_unit, w_text, w_unit}, outputs={run_status, bmi})\n",
    "\n",
    "if __name__ == \"__main__\":\n",
    "    demo.launch()"
   ]
  }
 ],
 "metadata": {
  "kernelspec": {
   "display_name": "Python 3",
   "language": "python",
   "name": "python3"
  },
  "language_info": {
   "codemirror_mode": {
    "name": "ipython",
    "version": 3
   },
   "file_extension": ".py",
   "mimetype": "text/x-python",
   "name": "python",
   "nbconvert_exporter": "python",
   "pygments_lexer": "ipython3",
   "version": "3.10.2"
  },
  "orig_nbformat": 4
 },
 "nbformat": 4,
 "nbformat_minor": 2
}
