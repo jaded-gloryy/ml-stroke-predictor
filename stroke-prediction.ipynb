{
 "cells": [
  {
   "attachments": {},
   "cell_type": "markdown",
   "metadata": {},
   "source": [
    "Goal: Usind data about strokes, build a predictor of which conditions are most likely to result in a sroke."
   ]
  },
  {
   "cell_type": "code",
   "execution_count": null,
   "metadata": {},
   "outputs": [],
   "source": [
    "from config import CONFIG\n",
    "import gradio as gr\n",
    "import numpy as np\n",
    "import pandas as pd\n",
    "from pandas import DataFrame as df\n",
    "import classes.BMICalculator as bmic\n",
    "import classes.Encoders as enc\n",
    "# import classes.Formatter as fm"
   ]
  },
  {
   "cell_type": "markdown",
   "metadata": {},
   "source": [
    "### EDA"
   ]
  },
  {
   "cell_type": "code",
   "execution_count": null,
   "metadata": {},
   "outputs": [],
   "source": [
    "# EDA\n",
    "data_loca= CONFIG[\"DATA_FILEPATH\"]\n",
    "child_bmi_data = CONFIG[\"CHILD_BMI\"]\n",
    "data = pd.read_csv(data_loca)\n",
    "child_bmi_df = pd.read_csv(child_bmi_data)\n",
    "data.head()"
   ]
  },
  {
   "cell_type": "code",
   "execution_count": null,
   "metadata": {},
   "outputs": [],
   "source": [
    "len(data)"
   ]
  },
  {
   "cell_type": "code",
   "execution_count": null,
   "metadata": {},
   "outputs": [],
   "source": [
    "data_df = data.dropna()\n",
    "len(data_df)"
   ]
  },
  {
   "cell_type": "code",
   "execution_count": null,
   "metadata": {},
   "outputs": [],
   "source": [
    "# round ages to nearest int\n",
    "data_df[\"age\"] = data_df[\"age\"].round()"
   ]
  },
  {
   "cell_type": "code",
   "execution_count": null,
   "metadata": {},
   "outputs": [],
   "source": [
    "# can't calc bmi for ages below 2\n",
    "data_df = data_df[data_df[\"age\"] > 1]"
   ]
  },
  {
   "cell_type": "code",
   "execution_count": null,
   "metadata": {},
   "outputs": [],
   "source": [
    "len(data_df)"
   ]
  },
  {
   "cell_type": "code",
   "execution_count": null,
   "metadata": {},
   "outputs": [],
   "source": [
    "# # get histograms of all data to see spread\n",
    "# import matplotlib.pyplot as plt\n",
    "# cols = [\"gender\", \"age\", \"hypertension\", \"heart_disease\",\"ever_married\", \"work_type\",\"Residence_type\", \"avg_glucose_level\",\"bmi\",\"smoking_status\",\"stroke\"]\n",
    "# for col in cols:\n",
    "#     # counts = data_df[col].value_counts().plot.barh()\n",
    "#     # fig, ax = plt.subplots()\n",
    "#     # ax.set_title(f\"{col}\")\n",
    "#     # plt.show()\n",
    "\n",
    "#     categories = data_df[col].value_counts().index\n",
    "#     counts = data_df[col].value_counts().values\n",
    "#     plt.barh(categories, counts)\n",
    "#     plt.title(col)\n",
    "#     plt.show()\n"
   ]
  },
  {
   "cell_type": "code",
   "execution_count": null,
   "metadata": {},
   "outputs": [],
   "source": [
    "#  look at correlations\n",
    "# import numpy as np\n",
    "# import pandas as pd\n",
    "# from scipy.stats import chi2_contingency\n",
    "\n",
    "# def cramers_v(x, y):\n",
    "#     confusion_matrix = pd.crosstab(x, y)\n",
    "#     chi2 = chi2_contingency(confusion_matrix)[0]\n",
    "#     n = confusion_matrix.sum().sum()\n",
    "#     phi2 = chi2 / n\n",
    "#     r, k = confusion_matrix.shape\n",
    "#     phi2corr = max(0, phi2 - ((k - 1) * (r - 1)) / (n - 1))\n",
    "#     r_corr = r - ((r - 1) ** 2) / (n - 1)\n",
    "#     k_corr = k - ((k - 1) ** 2) / (n - 1)\n",
    "#     return np.sqrt(phi2corr / min((k_corr - 1), (r_corr - 1)))\n",
    "\n",
    "# def plot_categorical_correlation(features):\n",
    "#     num_features = features.shape[1]\n",
    "#     correlation_matrix = np.zeros((num_features, num_features))\n",
    "\n",
    "#     for i in range(num_features):\n",
    "#         for j in range(num_features):\n",
    "#             correlation_matrix[i, j] = cramers_v(features[:, i], features[:, j])\n",
    "\n",
    "#     # Create a heatmap to visualize the correlation matrix\n",
    "#     fig, ax = plt.subplots(figsize=(8, 8))\n",
    "#     cax = ax.matshow(correlation_matrix, cmap='coolwarm', vmin=0, vmax=1)\n",
    "#     plt.colorbar(cax)\n",
    "\n",
    "#     # Add labels to the heatmap\n",
    "#     feature_names = [f\"Feature {i+1}\" for i in range(num_features)]\n",
    "#     ax.set_xticks(np.arange(len(feature_names)))\n",
    "#     ax.set_yticks(np.arange(len(feature_names)))\n",
    "#     ax.set_xticklabels(feature_names)\n",
    "#     ax.set_yticklabels(feature_names)\n",
    "#     ax.xaxis.tick_bottom()\n",
    "\n",
    "#     # Rotate the x-axis labels for better visibility\n",
    "#     plt.xticks(rotation=45, ha='right')\n",
    "\n",
    "#     # Display the correlation values in each cell\n",
    "#     for i in range(num_features):\n",
    "#         for j in range(num_features):\n",
    "#             ax.text(j, i, f\"{correlation_matrix[i, j]:.2f}\", ha='center', va='center', color='black')\n",
    "\n",
    "#     plt.title(\"Categorical Correlation Matrix (Cramer's V)\")\n",
    "#     plt.xlabel(\"Features\")\n",
    "#     plt.ylabel(\"Features\")\n",
    "#     plt.show()\n",
    "\n",
    "\n",
    "# plot_categorical_correlation(data_df)\n"
   ]
  },
  {
   "cell_type": "code",
   "execution_count": null,
   "metadata": {},
   "outputs": [],
   "source": [
    "\n",
    "# def plot_correlation_matrix(features):\n",
    "#     # Calculate the correlation matrix using numpy.corrcoef\n",
    "#     correlation_matrix = np.corrcoef(features, rowvar=False)\n",
    "\n",
    "#     # Create a heatmap to visualize the correlation matrix\n",
    "#     fig, ax = plt.subplots(figsize=(8, 8))\n",
    "#     cax = ax.matshow(correlation_matrix, cmap='coolwarm', vmin=-1, vmax=1)\n",
    "#     plt.colorbar(cax)\n",
    "\n",
    "#     # Add labels to the heatmap\n",
    "#     feature_names = [f\"Feature {i+1}\" for i in range(features.shape[1])]\n",
    "#     ax.set_xticks(np.arange(len(feature_names)))\n",
    "#     ax.set_yticks(np.arange(len(feature_names)))\n",
    "#     ax.set_xticklabels(feature_names)\n",
    "#     ax.set_yticklabels(feature_names)\n",
    "#     ax.xaxis.tick_bottom()\n",
    "\n",
    "#     # Rotate the x-axis labels for better visibility\n",
    "#     plt.xticks(rotation=45, ha='right')\n",
    "\n",
    "#     # Display the correlation values in each cell\n",
    "#     for i in range(len(feature_names)):\n",
    "#         for j in range(len(feature_names)):\n",
    "#             ax.text(j, i, f\"{correlation_matrix[i, j]:.2f}\", ha='center', va='center', color='black')\n",
    "\n",
    "#     plt.title(\"Pearson's Correlation Matrix\")\n",
    "#     plt.xlabel(\"Features\")\n",
    "#     plt.ylabel(\"Features\")\n",
    "#     plt.show()\n",
    "\n",
    "# plot_correlation_matrix(data_df)\n"
   ]
  },
  {
   "attachments": {},
   "cell_type": "markdown",
   "metadata": {},
   "source": [
    "### BMI conversion data\n",
    "\n",
    "These files contain the L, M, and S parameters needed to generate exact percentiles and z-scores along with the percentile values for the 3rd, 5th, 10th, 25th, 50th, 75th, 90th, 95th, and 97th percentiles by sex (1=male; 2=female) and single month of age. The smoothed 85th percentile values are included in the BMI-for-age and weight-for-stature tables. Age is listed at the half month point for the entire month; for example, 1.5 months represents 1.0-1.99 months or 1.0 month up to but not including 2.0 months of age. The only exception is birth, which represents the point at birth. To obtain L, M, and S values at finer age or length/stature intervals interpolation could be used.\n",
    "\n",
    "The LMS parameters are the median (M), the generalized coefficient of variation (S), and the power in the Box-Cox transformation (L). To obtain the value (X) of a given physical measurement at a particular z-score or percentile, use the following equation:\n",
    "\n",
    "X = M (1 + LSZ)**(1/L), L ≠ 0\n",
    "\n",
    "Or\n",
    "\n",
    "X = M exp(SZ), L = 0\n",
    "\n",
    "where the L, M, and S are the values from the appropriate table corresponding to the age in months of the child (** indicates an exponent, such that M(1+LSZ)**(1/L) means raising (1+LSZ) to the (1/L)th power and then multiplying the M; exp(X) is the exponentiation function, e to the power X). Z is the z-score that corresponds to the percentile. z-scores correspond exactly to percentiles, e.g., z-scores of -1.881, -1.645, -1.282, -0.674, 0, 0.674, 1.036, 1.282, 1.645, and 1.881 correspond to the 3rd, 5th, 10th, 25th, 50th, 75th, 85th, 90th, 95th, and 97th percentiles, respectively.\n",
    "\n",
    "For example, to obtain the 5th percentile of weight-for-age for a 9-month-old male, we would look up the L, M and S values from the WTAGEINF table, which are L=-0.1600954, M=9.476500305, and S=0.11218624. For the 5th percentile, we would use Z=-1.645. Using the equation above, we calculate that the 5th percentile is 7.90 kg.\n",
    "\n",
    "To obtain the z-score (Z) and corresponding percentile for a given measurement (X), use the following equation:\n",
    "\n",
    "((X/M)**L) – 1\n",
    "Z = ————————-, L≠0\n",
    "LS\n",
    "\n",
    "or\n",
    "\n",
    "Z = ln(X/M)/S ,L=0\n",
    "\n",
    "where X is the physical measurement (e.g. weight, length, head circumference, stature or calculated BMI value) and L, M and S are the values from the appropriate table corresponding to the age in months of the child (or length/stature). (X/M)**L means raising the quantity (X/M) to the Lth power.\n",
    "\n",
    "For example, to obtain the weight-for-age z-score of a 9-month-old male who weighs 9.7 kg, we would look up the L, M and S values from the WTAGEINF table, which are L=-0.1600954, M=9.476500305, and S=0.11218624. Using the equation above, we calculate that the z-score for this child is 0.207. This z-score corresponds to the 58th percentile.\n",
    "\n",
    "Z-scores and corresponding percentiles can be obtained from standard normal distribution tables found in statistics text books. Standard normal tables can also be found on the internet by doing a search on a “standard normal table.” In addition, many computer programs have pre-existing functions that convert Z-scores to percentiles and vice versa.\n",
    "\n"
   ]
  },
  {
   "cell_type": "code",
   "execution_count": null,
   "metadata": {},
   "outputs": [],
   "source": [
    "# chile BMI conversion df\n",
    "child_bmi_df.head()"
   ]
  },
  {
   "cell_type": "code",
   "execution_count": null,
   "metadata": {},
   "outputs": [],
   "source": [
    "child_bmi_df.describe()"
   ]
  },
  {
   "cell_type": "code",
   "execution_count": null,
   "metadata": {},
   "outputs": [],
   "source": [
    "# # drop secondary heading (from joint male and female bmi chart)\n",
    "child_bmi_df = child_bmi_df.drop(index = 219)"
   ]
  },
  {
   "cell_type": "code",
   "execution_count": null,
   "metadata": {},
   "outputs": [],
   "source": [
    "child_bmi_df[\"Sex\"].unique()"
   ]
  },
  {
   "cell_type": "code",
   "execution_count": null,
   "metadata": {},
   "outputs": [],
   "source": [
    "child_bmi_df.dtypes"
   ]
  },
  {
   "cell_type": "code",
   "execution_count": null,
   "metadata": {},
   "outputs": [],
   "source": [
    "child_bmi_df = child_bmi_df.astype(float)\n",
    "child_bmi_df[\"Sex\"] = child_bmi_df[\"Sex\"].astype(int)"
   ]
  },
  {
   "cell_type": "code",
   "execution_count": null,
   "metadata": {},
   "outputs": [],
   "source": [
    "child_bmi_df.dtypes"
   ]
  },
  {
   "cell_type": "code",
   "execution_count": null,
   "metadata": {},
   "outputs": [],
   "source": [
    "child_bmi_df"
   ]
  },
  {
   "cell_type": "code",
   "execution_count": null,
   "metadata": {},
   "outputs": [],
   "source": [
    "# child_bmi_df\n",
    "\n",
    "t_age = 168.5\n",
    "t_gender = 2\n",
    "t_age_mask = child_bmi_df[\"Agemos\"] == t_age\n",
    "t_gender_mask = child_bmi_df[\"Sex\"] == t_gender\n",
    "            \n",
    "t_lookup_row = child_bmi_df[t_age_mask & t_gender_mask]\n",
    "t_lookup_row"
   ]
  },
  {
   "cell_type": "markdown",
   "metadata": {},
   "source": [
    "## Encode data for training"
   ]
  },
  {
   "cell_type": "code",
   "execution_count": null,
   "metadata": {},
   "outputs": [],
   "source": [
    "# split data by age \n",
    "child_df = data_df[data_df[\"age\"] <= 20]\n",
    "adult_df = data_df[data_df[\"age\"] > 20]"
   ]
  },
  {
   "cell_type": "code",
   "execution_count": null,
   "metadata": {},
   "outputs": [],
   "source": [
    "# encode bmi for each df\n",
    "enc_child_bmi =  enc.ChildBMIEncoder(bmi_table= child_bmi_df, data_table= child_df).encode()\n",
    "enc_adult_bmi = enc.AdultBMIEncoder(adult_df).encode()"
   ]
  },
  {
   "cell_type": "code",
   "execution_count": null,
   "metadata": {},
   "outputs": [],
   "source": [
    "# def combine_dfs(df1,df2):\n",
    "#     if len(enc_child_bmi.columns) == len(enc_adult_bmi.columns):\n",
    "#         new_df = pd.concat([enc_child_bmi,enc_adult_bmi])\n",
    "\n",
    "#     else:\n",
    "#         print(\"Columns must match to concatenate dataframes\")\n",
    "#         return new_df"
   ]
  },
  {
   "cell_type": "code",
   "execution_count": null,
   "metadata": {},
   "outputs": [],
   "source": [
    "if len(enc_child_bmi.columns) == len(enc_adult_bmi.columns):\n",
    "    new_df = pd.concat([enc_child_bmi,enc_adult_bmi])\n",
    "\n",
    "else:\n",
    "    print(\"Columns must match to concatenate dataframes\")\n",
    "\n",
    "new_df"
   ]
  },
  {
   "cell_type": "code",
   "execution_count": null,
   "metadata": {},
   "outputs": [],
   "source": [
    "age_enc = enc.AgeEncoder(new_df,\"age\")\n",
    "new_df = age_enc.encode()\n",
    "# new_df = encode_age.df()\n",
    "new_df\n",
    "# encode_age\n"
   ]
  },
  {
   "cell_type": "code",
   "execution_count": null,
   "metadata": {},
   "outputs": [],
   "source": [
    "de.encode_bmi(new_df,\"bmi_buckets\")\n",
    "\n",
    "new_df"
   ]
  },
  {
   "cell_type": "code",
   "execution_count": null,
   "metadata": {},
   "outputs": [],
   "source": [
    "gend_enc = enc.GenderEncoder(new_df,\"gender\").encode()\n",
    "marr_enc = enc.MarriageEncoder(new_df,\"ever_married\").encode()\n",
    "res_enc = enc.ResidenceEncoder(new_df,\"Residence_type\").encode()\n",
    "smoke_enc = enc.SmokingStatusEncoder(new_df, \"smoking_status\").encode()\n",
    "\n",
    "new_df = smoke_enc\n",
    "new_df"
   ]
  },
  {
   "cell_type": "code",
   "execution_count": null,
   "metadata": {},
   "outputs": [],
   "source": [
    "    # de.encode_gender(new_df)\n",
    "    # de.encode_marriage(new_df)\n",
    "    # de.encode_residence(new_df)\n",
    "    # de.encode_smoke_stat(new_df,\"smoking_status\")\n",
    "    # new_df"
   ]
  },
  {
   "cell_type": "code",
   "execution_count": null,
   "metadata": {},
   "outputs": [],
   "source": [
    "new_df[\"stroke\"]"
   ]
  },
  {
   "cell_type": "code",
   "execution_count": null,
   "metadata": {},
   "outputs": [],
   "source": [
    "def get_train_df(df, drop_cols, label_col):\n",
    "    \"\"\"\n",
    "    Input: \n",
    "        df with encoded training data\n",
    "        [drop_cols]; columns names to drop from df\n",
    "        \"label_col\"; name of label column\n",
    "    Output: \n",
    "        training data df, label df\n",
    "    \"\"\"\n",
    "    labels = df[label_col]\n",
    "    df = df.drop(label_col, axis = 1)\n",
    "    train_df = df.drop(drop_cols, axis = 1)\n",
    "\n",
    "    return train_df, labels"
   ]
  },
  {
   "cell_type": "code",
   "execution_count": null,
   "metadata": {},
   "outputs": [],
   "source": [
    "# get train df, remove unecceasry columns\n",
    "# removed avg glucose level for now (for demo)\n",
    "# drop_cols = [\"id\", \"gender\", \"age\", \"ever_married\", \"work_type\", \"Residence_type\", \"bmi\",\"smoking_status\", \"bmi_buckets\",\"avg_glucose_level\"]\n",
    "drop_cols = [\"id\", \"gender\", \"ever_married\", \"work_type\", \"Residence_type\", \"bmi\",\"smoking_status\", \"bmi_buckets\",\"avg_glucose_level\", \"a0\", \"a10\", \"a20\", \"a30\", \"a40\", \"a50\", \"a60\", \"a70\", \"a80\"]\n",
    "train_df, labels = get_train_df(new_df, drop_cols, \"stroke\")\n",
    "train_df"
   ]
  },
  {
   "cell_type": "code",
   "execution_count": null,
   "metadata": {},
   "outputs": [],
   "source": [
    "train_df.columns"
   ]
  },
  {
   "cell_type": "code",
   "execution_count": null,
   "metadata": {},
   "outputs": [],
   "source": [
    "labels"
   ]
  },
  {
   "cell_type": "code",
   "execution_count": null,
   "metadata": {},
   "outputs": [],
   "source": [
    "# split into testing and training data\n",
    "from sklearn.model_selection import train_test_split\n",
    "\n",
    "X_train, X_test, y_train, y_test = train_test_split(train_df, labels, test_size = 0.2, random_state = 42)"
   ]
  },
  {
   "cell_type": "code",
   "execution_count": null,
   "metadata": {},
   "outputs": [],
   "source": [
    "X_train.dtypes"
   ]
  },
  {
   "cell_type": "code",
   "execution_count": null,
   "metadata": {},
   "outputs": [],
   "source": [
    "# use SVM for classification\n",
    "from sklearn.svm import LinearSVC\n",
    "\n",
    "classifier = LinearSVC()\n",
    "classifier.fit(X_train, y_train)"
   ]
  },
  {
   "cell_type": "code",
   "execution_count": null,
   "metadata": {},
   "outputs": [],
   "source": [
    "predictions = classifier.predict(X_test)"
   ]
  },
  {
   "cell_type": "code",
   "execution_count": null,
   "metadata": {},
   "outputs": [],
   "source": [
    "classifier.score(X_test,y_test)"
   ]
  },
  {
   "cell_type": "code",
   "execution_count": null,
   "metadata": {},
   "outputs": [],
   "source": [
    "classifier.get_params()"
   ]
  },
  {
   "cell_type": "code",
   "execution_count": null,
   "metadata": {},
   "outputs": [],
   "source": [
    "classifier.predict_proba(X_test)"
   ]
  },
  {
   "cell_type": "code",
   "execution_count": null,
   "metadata": {},
   "outputs": [],
   "source": [
    "# more metrics\n",
    "from sklearn.metrics import classification_report, accuracy_score, precision_score, recall_score"
   ]
  },
  {
   "cell_type": "code",
   "execution_count": null,
   "metadata": {},
   "outputs": [],
   "source": [
    "\n",
    "classification_report(y_test,predictions)"
   ]
  },
  {
   "cell_type": "markdown",
   "metadata": {},
   "source": [
    "Try to rerain using k-folds"
   ]
  },
  {
   "cell_type": "code",
   "execution_count": null,
   "metadata": {},
   "outputs": [],
   "source": [
    "# new test-train splits\n",
    "X_train2, X_test2, y_train2, y_test2 = train_test_split(train_df, labels, test_size = 0.3, random_state = 12)"
   ]
  },
  {
   "cell_type": "code",
   "execution_count": null,
   "metadata": {},
   "outputs": [],
   "source": [
    "from sklearn.model_selection import KFold\n",
    "from sklearn.model_selection import cross_val_score\n",
    "from sklearn.metrics import make_scorer\n",
    "\n",
    "#define cross-validation method to use\n",
    "cv = KFold(n_splits=10, random_state=1, shuffle=True)\n",
    "\n",
    "model = classifier\n",
    "\n",
    "#use k-fold CV to evaluate model\n",
    "scores = cross_val_score(model, X_train2, y_train2, scoring=make_scorer(accuracy_score),\n",
    "                         cv=cv, n_jobs=-1)\n",
    "\n",
    "scores"
   ]
  },
  {
   "cell_type": "code",
   "execution_count": null,
   "metadata": {},
   "outputs": [],
   "source": [
    "c2 = classifier\n",
    "c2.fit(X_train2,y_train2)\n",
    "pred2 = c2.predict(X_test2)\n",
    "c2.score(X_test2,y_test2)\n",
    "\n"
   ]
  },
  {
   "cell_type": "markdown",
   "metadata": {},
   "source": [
    "## DEMO"
   ]
  },
  {
   "cell_type": "code",
   "execution_count": null,
   "metadata": {},
   "outputs": [],
   "source": [
    "# demo support functions\n",
    "\n",
    "def request_age(age):\n",
    "    return age\n",
    "\n",
    "def encode_age(df):\n",
    "    df.Age = df.Age.fillna(-0.5)\n",
    "    bins = (-1, 0, 5, 12, 18, 25, 35, 60, 120)\n",
    "    categories = pd.cut(df.Age, bins, labels=False)\n",
    "    df.Age = categories\n",
    "    return df\n",
    "\n",
    "def request_sex(sex):\n",
    "    return \"Male\" if sex.lower() == \"male\" else \"Female\"\n",
    "\n",
    "def hypertension(text):\n",
    "    feature = 1 if text.lower() == \"yes\" else 0\n",
    "    return feature\n",
    "\n",
    "def heart_disease(text):\n",
    "    feature = 1 if text.lower() == \"yes\" else 0\n",
    "    return feature\n",
    "\n",
    "    \n",
    "\n",
    "def bmi_standard(weight_lb,height_in, age):\n",
    "    \"\"\" \n",
    "    Inputs:\n",
    "        height_in = (height feet, height in)\n",
    "        weight_lb = \n",
    "    \"\"\"\n",
    "    height = (height_in[0] * 12) + height_in[1]\n",
    "    bmi = weight_lb / (height **2)\n",
    "\n",
    "    return bmi\n",
    "\n",
    "    \n",
    "\n",
    "def bmi_imperial(weight_kg, height_m,age):\n",
    "\n",
    "    bmi = weight_kg / (height_m **2)\n",
    "\n",
    "    return bmi\n",
    "\n",
    "def req_marriage(text):\n",
    "    if text.lower() == \"yes\":\n",
    "        feature = \"Yes\"\n",
    "    else: \n",
    "        feature = \"No\"\n",
    "    return feature\n",
    "\n",
    "def red_residence(text):\n",
    "    if text.lower()== "
   ]
  },
  {
   "cell_type": "code",
   "execution_count": null,
   "metadata": {},
   "outputs": [],
   "source": [
    "def bmi_standard(weight_lb,height_in, age):\n",
    "    \"\"\" \n",
    "    Inputs:\n",
    "        height_in = (height feet, height in)\n",
    "        weight_lb = \n",
    "    \"\"\"\n",
    "    height = (height_in[0] * 12) + height_in[1]\n",
    "    bmi = weight_lb / (height **2)\n",
    "\n",
    "    return bmi\n",
    "\n",
    "    \n",
    "\n",
    "def bmi_imperial(weight_kg, height_m,age):\n",
    "\n",
    "    bmi = weight_kg / (height_m **2)\n",
    "\n",
    "    return bmi"
   ]
  },
  {
   "cell_type": "code",
   "execution_count": null,
   "metadata": {},
   "outputs": [],
   "source": [
    "# dropdown data\n",
    "gr.CheckboxGroup([\"Male\", \"Female\"], label=\"Gender?\")\n",
    "gr.Dropdown(label = \"Residence Type\",choices =[\"Urban\", \"Rural\"],show_label = True, interactive = True)\n",
    "\n",
    "gr.Dropdown(label = \"Smoking Status\",choices = [\"smokes\",\"never smoked\", \"formerly smoked\", \"Unknown\"],show_label = True)\n",
    "\n",
    "gr.CheckboxGroup([\"Urban\", \"Rural\"], label=\"Residence Type\")\n",
    "# convert to 1 or 0 \n",
    "gr.CheckboxGroup([\"Yes\", \"No\"], label=\"Hypertension?\")\n",
    "gr.CheckboxGroup([\"Yes\", \"No\"], label=\"Heart Disease?\")\n",
    "gr.Textbox(\"Age\")"
   ]
  },
  {
   "cell_type": "code",
   "execution_count": null,
   "metadata": {},
   "outputs": [],
   "source": [
    "# get units of height and weight\n",
    "# get standard height as (feet,inches)\n",
    "\n",
    "'age', 'hypertension', 'heart_disease', 'stroke', 'bmi_under',\n",
    "       'bmi_healthy', 'bmi_over', 'bmi_obese', 'is_male', 'c_ever_married',\n",
    "       'live_urban', 'ss_1', 'ss_2', 'ss_3', 'ss_4'\n",
    " "
   ]
  },
  {
   "cell_type": "code",
   "execution_count": null,
   "metadata": {},
   "outputs": [],
   "source": [
    "# make an encoder interface (assembly line)"
   ]
  },
  {
   "cell_type": "code",
   "execution_count": null,
   "metadata": {},
   "outputs": [],
   "source": [
    "# make enocde classes (for each function)\n"
   ]
  },
  {
   "cell_type": "code",
   "execution_count": null,
   "metadata": {},
   "outputs": [],
   "source": [
    "# create a predict dict class and initialize with the object"
   ]
  },
  {
   "cell_type": "code",
   "execution_count": null,
   "metadata": {},
   "outputs": [],
   "source": [
    "# example:\n",
    "\n",
    "\n",
    "prediction_dict = {\n",
    "                    \"height\": None, \n",
    "                    \"height_unit\": None, \n",
    "                    \"weight\": None, \n",
    "                    \"weight_unit\": None, \n",
    "                    \"gender\": None, \n",
    "                    \"age\": None, \n",
    "                    \"marriage_stat\": None, \n",
    "                    \"residence\": None, \n",
    "                    \"smoke_stat\": None, \n",
    "                    \"hypertension\": None,\n",
    "                    \"heart_disease\": None\n",
    "                }\n",
    "\n",
    "def predict_survival(prediction_dict):\n",
    "    \"\"\" \n",
    "    Input: \n",
    "        {prediction_dict};\n",
    "            \"height\": None, \n",
    "            \"height_unit\": None, \n",
    "            \"weight\": None, \n",
    "            \"weight_unit\": None, \n",
    "            \"gender\": None, \n",
    "            \"age\": None, \n",
    "            \"marriage_stat\": None, \n",
    "            \"residence\": None, \n",
    "            \"smoke_stat\": None, \n",
    "            \"hypertension\": None,\n",
    "            \"heart_disease\": None\n",
    "    Output:\n",
    "        Preddicton of stroke (Yes or No)\n",
    "    \"\"\"\n",
    "\n",
    "  prediction_dict[\"height\"] = \n",
    "        [\"height_unit\"]\n",
    "        [\"weight\"]\n",
    "        \"weight_unit\"\n",
    "        \"gender\"\n",
    "        \"age\"\n",
    "        \"marriage_stat\"\n",
    "        \"residence\"\n",
    "        \"smoke_stat\"\n",
    "        \"hypertension\"\n",
    "        \"heart_disease\"\n",
    "    if height_unit == \"kg\" and weight_unit == \"m\":\n",
    "        bmi = bmi_imperial(weight_kg= weight, height_m= height, age= age)\n",
    "    else:\n",
    "        bmi = bmi_standard(weight_lb= weight, height_in=height, age = age)\n",
    "    \n",
    "    # initialize df\n",
    "    df = pd.DataFrame.from_dict(\n",
    "        {\n",
    "            \"age\": 0,\n",
    "            \"gender\": gender\n",
    "            \"hypertension\": 0,\n",
    "            \"heart_disease\": 0,\n",
    "            \"bmi\" = bmi\n",
    "            \"live_urban\": 0,\n",
    "            \"ever_married\": marriage_stat,\n",
    "            \"Residence_type\": residence,\n",
    "            \"smoking_status\": smoke_stat\n",
    "                    }\n",
    "    )\n",
    "    df = de.get_bmi_bucket(data_table = data_df, bmi_table =child_bmi_df )\n",
    "    df = de.encode_bmi(df,\"bmi_buckets\")\n",
    "    # df = de.encode_ages(df,\"age\")\n",
    "    df = de.encode_gender (df)\n",
    "    df = de.encode_marriage(df)\n",
    "    df = de.encode_residence(df)\n",
    "    df = de.encode_smoke_stat(df,\"smoking_status\")\n",
    "\n",
    "    drop_cols = [\"gender\", \"bmi\"]\n",
    "\n",
    "    pred = classifier.predict(df)\n",
    "    return {\"Stroke likely\": float(pred[0]), \"Survives\": float(pred[1])}\n",
    "\n",
    "\n",
    "demo = gr.Interface(\n",
    "    predict_survival,\n",
    "    [\n",
    "        gr.Dropdown([\"first\", \"second\", \"third\"], type=\"index\"),\n",
    "        \"checkbox\",\n",
    "        gr.Slider(0, 80, value=25),\n",
    "        gr.CheckboxGroup([\"Sibling\", \"Child\"], label=\"Travelling with (select all)\"),\n",
    "        gr.Number(value=20),\n",
    "        gr.Radio([\"S\", \"C\", \"Q\"], type=\"index\"),\n",
    "    ],\n",
    "    \"label\",\n",
    "    examples=[\n",
    "        [\"first\", True, 30, [], 50, \"S\"],\n",
    "        [\"second\", False, 40, [\"Sibling\", \"Child\"], 10, \"Q\"],\n",
    "        [\"third\", True, 30, [\"Child\"], 20, \"S\"],\n",
    "    ],\n",
    "    interpretation=\"default\",\n",
    "    live=True,\n",
    ")\n",
    "\n",
    "if __name__ == \"__main__\":\n",
    "    demo.launch()"
   ]
  },
  {
   "cell_type": "code",
   "execution_count": null,
   "metadata": {},
   "outputs": [],
   "source": [
    "import gradio as gr\n",
    "from classes.BMICalculator import BMICalculator\n",
    "\n",
    "\n",
    "def greet(name):\n",
    "    return \"Hello \" + name + \"!\"\n",
    "\n",
    "\n",
    "\n",
    "# def predict_stroke(data):\n",
    "#     \"\"\" \n",
    "#     hypertension (y/n)\n",
    "# heart disease (y/n)\n",
    "# avg glucose level (?)\n",
    "# bmi (sub for weight and calculate?)\n",
    "# ever married (y/n/child)\n",
    "# age \n",
    "# neighborhood (urban, rural)\n",
    "# gender\n",
    "# smoking status (former, never, yes,  )\n",
    "# \"\"\"\n",
    "#     if passenger_class is None or embark_point is None:\n",
    "#         return None\n",
    "#     df = pd.DataFrame.from_dict(\n",
    "        \n",
    "\n",
    "\n",
    "\n",
    "#     )\n",
    "    \n",
    "# demo = gr.Interface(fn=greet, inputs=\"text\", outputs=\"text\")\n",
    "def get_data(data_dict):\n",
    "    data_dict[age_in]\n",
    "\n",
    "\n",
    "    # make into df\n",
    "    df = pd.DataFrame.from_dict(data_dict)\n",
    "\n",
    "    # make fcn to encode data\n",
    "    return pred\n",
    "\n",
    "im = gr.PlayableVideo(value= \"\" autoplay = True)\n",
    "\n",
    "def output_video():\n",
    "    im = gr.PlayableVideo(value= \"\")\n",
    "\n",
    "data = {}\n",
    "age_in = gr.Textbox(label = \"Age\"),\n",
    "gend_in = gr.CheckboxGroup([\"Male\", \"Female\"], label=\"Gender?\")\n",
    "res_in = gr.CheckboxGroup([\"Urban\", \"Rural\"], label=\"Residence Type\")\n",
    "hyp_in = gr.CheckboxGroup([\"Yes\", \"No\"], label=\"Hypertension?\")\n",
    "hdis_in = gr.CheckboxGroup([\"Yes\", \"No\"], label=\"Heart Disease?\")\n",
    "smoke_in = gr.CheckboxGroup(label = \"Smoking Status\",choices = [\"smokes\",\"never smoked\", \"formerly smoked\", \"Unknown\"],show_label = True)\n",
    "req_bmi = BMICalculator(data_dict)\n",
    "# gr.Dropdown(label = \"Residence Type\",choices =[\"Urban\", \"Rural\"],show_label = True, interactive = True),\n",
    "# gr.Dropdown(label = \"Smoking Status\",choices = [\"smokes\",\"never smoked\", \"formerly smoked\", \"Unknown\"],show_label = True)\n",
    "\n",
    "\n",
    "\n",
    "demo = gr.Interface(fn = get_data, inputs = data,\n",
    "                    \n",
    "                    \n",
    "                     outputs = im, live = True)\n",
    "\n",
    "demo.launch(share=True)"
   ]
  },
  {
   "cell_type": "code",
   "execution_count": null,
   "metadata": {},
   "outputs": [],
   "source": []
  },
  {
   "cell_type": "code",
   "execution_count": null,
   "metadata": {},
   "outputs": [],
   "source": [
    "# import gradio as gr\n",
    "\n",
    "# Define the first component that takes some input and produces some output\n",
    "def function1(input_text):\n",
    "    output_text = f\"Function 1: You entered '{input_text}'\"\n",
    "    return output_text\n",
    "\n",
    "input_component = gr.inputs.Textbox()\n",
    "output_component1 = gr.outputs.Textbox()\n",
    "\n",
    "gr.Interface(fn=function1, inputs=input_component, outputs=output_component1, title=\"Function 1\").launch()\n",
    "\n",
    "# Define the second component that takes the output of the first component as input\n",
    "def function2(input_text):\n",
    "    modified_text = f\"Function 2: Modified text from Function 1: '{input_text.upper()}'\"\n",
    "    return modified_text\n",
    "\n",
    "output_component2 = gr.outputs.Textbox()\n",
    "\n",
    "gr.Interface(fn=function2, inputs=output_component1, outputs=output_component2, title=\"Function 2\").launch()"
   ]
  }
 ],
 "metadata": {
  "kernelspec": {
   "display_name": "Python 3",
   "language": "python",
   "name": "python3"
  },
  "language_info": {
   "codemirror_mode": {
    "name": "ipython",
    "version": 3
   },
   "file_extension": ".py",
   "mimetype": "text/x-python",
   "name": "python",
   "nbconvert_exporter": "python",
   "pygments_lexer": "ipython3",
   "version": "3.10.2"
  },
  "orig_nbformat": 4
 },
 "nbformat": 4,
 "nbformat_minor": 2
}
