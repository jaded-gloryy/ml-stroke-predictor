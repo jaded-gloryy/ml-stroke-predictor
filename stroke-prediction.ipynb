{
 "cells": [
  {
   "attachments": {},
   "cell_type": "markdown",
   "metadata": {},
   "source": [
    "Goal: Usind data about strokes, build a predictor of which conditions are most likely to result in a sroke."
   ]
  },
  {
   "cell_type": "code",
   "execution_count": 1,
   "metadata": {},
   "outputs": [],
   "source": [
    "import pandas as pd\n",
    "from pandas import DataFrame as df\n",
    "from config import CONFIG"
   ]
  },
  {
   "cell_type": "code",
   "execution_count": 2,
   "metadata": {},
   "outputs": [
    {
     "data": {
      "text/html": [
       "<div>\n",
       "<style scoped>\n",
       "    .dataframe tbody tr th:only-of-type {\n",
       "        vertical-align: middle;\n",
       "    }\n",
       "\n",
       "    .dataframe tbody tr th {\n",
       "        vertical-align: top;\n",
       "    }\n",
       "\n",
       "    .dataframe thead th {\n",
       "        text-align: right;\n",
       "    }\n",
       "</style>\n",
       "<table border=\"1\" class=\"dataframe\">\n",
       "  <thead>\n",
       "    <tr style=\"text-align: right;\">\n",
       "      <th></th>\n",
       "      <th>id</th>\n",
       "      <th>gender</th>\n",
       "      <th>age</th>\n",
       "      <th>hypertension</th>\n",
       "      <th>heart_disease</th>\n",
       "      <th>ever_married</th>\n",
       "      <th>work_type</th>\n",
       "      <th>Residence_type</th>\n",
       "      <th>avg_glucose_level</th>\n",
       "      <th>bmi</th>\n",
       "      <th>smoking_status</th>\n",
       "      <th>stroke</th>\n",
       "    </tr>\n",
       "  </thead>\n",
       "  <tbody>\n",
       "    <tr>\n",
       "      <th>0</th>\n",
       "      <td>9046</td>\n",
       "      <td>Male</td>\n",
       "      <td>67.0</td>\n",
       "      <td>0</td>\n",
       "      <td>1</td>\n",
       "      <td>Yes</td>\n",
       "      <td>Private</td>\n",
       "      <td>Urban</td>\n",
       "      <td>228.69</td>\n",
       "      <td>36.6</td>\n",
       "      <td>formerly smoked</td>\n",
       "      <td>1</td>\n",
       "    </tr>\n",
       "    <tr>\n",
       "      <th>1</th>\n",
       "      <td>51676</td>\n",
       "      <td>Female</td>\n",
       "      <td>61.0</td>\n",
       "      <td>0</td>\n",
       "      <td>0</td>\n",
       "      <td>Yes</td>\n",
       "      <td>Self-employed</td>\n",
       "      <td>Rural</td>\n",
       "      <td>202.21</td>\n",
       "      <td>NaN</td>\n",
       "      <td>never smoked</td>\n",
       "      <td>1</td>\n",
       "    </tr>\n",
       "    <tr>\n",
       "      <th>2</th>\n",
       "      <td>31112</td>\n",
       "      <td>Male</td>\n",
       "      <td>80.0</td>\n",
       "      <td>0</td>\n",
       "      <td>1</td>\n",
       "      <td>Yes</td>\n",
       "      <td>Private</td>\n",
       "      <td>Rural</td>\n",
       "      <td>105.92</td>\n",
       "      <td>32.5</td>\n",
       "      <td>never smoked</td>\n",
       "      <td>1</td>\n",
       "    </tr>\n",
       "    <tr>\n",
       "      <th>3</th>\n",
       "      <td>60182</td>\n",
       "      <td>Female</td>\n",
       "      <td>49.0</td>\n",
       "      <td>0</td>\n",
       "      <td>0</td>\n",
       "      <td>Yes</td>\n",
       "      <td>Private</td>\n",
       "      <td>Urban</td>\n",
       "      <td>171.23</td>\n",
       "      <td>34.4</td>\n",
       "      <td>smokes</td>\n",
       "      <td>1</td>\n",
       "    </tr>\n",
       "    <tr>\n",
       "      <th>4</th>\n",
       "      <td>1665</td>\n",
       "      <td>Female</td>\n",
       "      <td>79.0</td>\n",
       "      <td>1</td>\n",
       "      <td>0</td>\n",
       "      <td>Yes</td>\n",
       "      <td>Self-employed</td>\n",
       "      <td>Rural</td>\n",
       "      <td>174.12</td>\n",
       "      <td>24.0</td>\n",
       "      <td>never smoked</td>\n",
       "      <td>1</td>\n",
       "    </tr>\n",
       "  </tbody>\n",
       "</table>\n",
       "</div>"
      ],
      "text/plain": [
       "      id  gender   age  hypertension  heart_disease ever_married  \\\n",
       "0   9046    Male  67.0             0              1          Yes   \n",
       "1  51676  Female  61.0             0              0          Yes   \n",
       "2  31112    Male  80.0             0              1          Yes   \n",
       "3  60182  Female  49.0             0              0          Yes   \n",
       "4   1665  Female  79.0             1              0          Yes   \n",
       "\n",
       "       work_type Residence_type  avg_glucose_level   bmi   smoking_status  \\\n",
       "0        Private          Urban             228.69  36.6  formerly smoked   \n",
       "1  Self-employed          Rural             202.21   NaN     never smoked   \n",
       "2        Private          Rural             105.92  32.5     never smoked   \n",
       "3        Private          Urban             171.23  34.4           smokes   \n",
       "4  Self-employed          Rural             174.12  24.0     never smoked   \n",
       "\n",
       "   stroke  \n",
       "0       1  \n",
       "1       1  \n",
       "2       1  \n",
       "3       1  \n",
       "4       1  "
      ]
     },
     "execution_count": 2,
     "metadata": {},
     "output_type": "execute_result"
    }
   ],
   "source": [
    "# EDA\n",
    "data_loca= CONFIG[\"DATA_FILEPATH\"]\n",
    "child_bmi_data = CONFIG[\"CHILD_BMI\"]\n",
    "data = pd.read_csv(data_loca)\n",
    "child_bmi_df = pd.read_csv(child_bmi_data)\n",
    "data.head()"
   ]
  },
  {
   "cell_type": "code",
   "execution_count": 5,
   "metadata": {},
   "outputs": [
    {
     "data": {
      "text/plain": [
       "5110"
      ]
     },
     "execution_count": 5,
     "metadata": {},
     "output_type": "execute_result"
    }
   ],
   "source": [
    "len(data)"
   ]
  },
  {
   "cell_type": "code",
   "execution_count": 6,
   "metadata": {},
   "outputs": [
    {
     "data": {
      "text/plain": [
       "4909"
      ]
     },
     "execution_count": 6,
     "metadata": {},
     "output_type": "execute_result"
    }
   ],
   "source": [
    "data_df = data.dropna()\n",
    "len(data_df)"
   ]
  },
  {
   "cell_type": "code",
   "execution_count": 8,
   "metadata": {},
   "outputs": [
    {
     "data": {
      "image/png": "[encoded data removed]",
      "text/plain": [
       "<Figure size 432x288 with 1 Axes>"
      ]
     },
     "metadata": {
      "needs_background": "light"
     },
     "output_type": "display_data"
    },
    {
     "data": {
      "image/png": "[encoded data removed]",
      "text/plain": [
       "<Figure size 432x288 with 1 Axes>"
      ]
     },
     "metadata": {
      "needs_background": "light"
     },
     "output_type": "display_data"
    },
    {
     "data": {
      "image/png": "[encoded data removed]",
      "text/plain": [
       "<Figure size 432x288 with 1 Axes>"
      ]
     },
     "metadata": {
      "needs_background": "light"
     },
     "output_type": "display_data"
    },
    {
     "data": {
      "image/png": "[encoded data removed]",
      "text/plain": [
       "<Figure size 432x288 with 1 Axes>"
      ]
     },
     "metadata": {
      "needs_background": "light"
     },
     "output_type": "display_data"
    },
    {
     "data": {
      "image/png": "[encoded data removed]",
      "text/plain": [
       "<Figure size 432x288 with 1 Axes>"
      ]
     },
     "metadata": {
      "needs_background": "light"
     },
     "output_type": "display_data"
    },
    {
     "data": {
      "image/png": "[encoded data removed]",
      "text/plain": [
       "<Figure size 432x288 with 1 Axes>"
      ]
     },
     "metadata": {
      "needs_background": "light"
     },
     "output_type": "display_data"
    },
    {
     "data": {
      "image/png": "[encoded data removed]",
      "text/plain": [
       "<Figure size 432x288 with 1 Axes>"
      ]
     },
     "metadata": {
      "needs_background": "light"
     },
     "output_type": "display_data"
    },
    {
     "data": {
      "image/png": "[encoded data removed]",
      "text/plain": [
       "<Figure size 432x288 with 1 Axes>"
      ]
     },
     "metadata": {
      "needs_background": "light"
     },
     "output_type": "display_data"
    },
    {
     "data": {
      "image/png": "[encoded data removed]",
      "text/plain": [
       "<Figure size 432x288 with 1 Axes>"
      ]
     },
     "metadata": {
      "needs_background": "light"
     },
     "output_type": "display_data"
    },
    {
     "data": {
      "image/png": "[encoded data removed]",
      "text/plain": [
       "<Figure size 432x288 with 1 Axes>"
      ]
     },
     "metadata": {
      "needs_background": "light"
     },
     "output_type": "display_data"
    },
    {
     "data": {
      "image/png": "[encoded data removed]",
      "text/plain": [
       "<Figure size 432x288 with 1 Axes>"
      ]
     },
     "metadata": {
      "needs_background": "light"
     },
     "output_type": "display_data"
    }
   ],
   "source": [
    "# get histograms of all data to see spread\n",
    "import matplotlib.pyplot as plt\n",
    "cols = [\"gender\", \"age\", \"hypertension\", \"heart_disease\",\"ever_married\", \"work_type\",\"Residence_type\", \"avg_glucose_level\",\"bmi\",\"smoking_status\",\"stroke\"]\n",
    "for col in cols:\n",
    "    # counts = data_df[col].value_counts().plot.barh()\n",
    "    # fig, ax = plt.subplots()\n",
    "    # ax.set_title(f\"{col}\")\n",
    "    # plt.show()\n",
    "\n",
    "    categories = data_df[col].value_counts().index\n",
    "    counts = data_df[col].value_counts().values\n",
    "    plt.barh(categories, counts)\n",
    "    plt.title(col)\n",
    "    plt.show()\n"
   ]
  },
  {
   "attachments": {},
   "cell_type": "markdown",
   "metadata": {},
   "source": [
    "These files contain the L, M, and S parameters needed to generate exact percentiles and z-scores along with the percentile values for the 3rd, 5th, 10th, 25th, 50th, 75th, 90th, 95th, and 97th percentiles by sex (1=male; 2=female) and single month of age. The smoothed 85th percentile values are included in the BMI-for-age and weight-for-stature tables. Age is listed at the half month point for the entire month; for example, 1.5 months represents 1.0-1.99 months or 1.0 month up to but not including 2.0 months of age. The only exception is birth, which represents the point at birth. To obtain L, M, and S values at finer age or length/stature intervals interpolation could be used.\n",
    "\n",
    "The LMS parameters are the median (M), the generalized coefficient of variation (S), and the power in the Box-Cox transformation (L). To obtain the value (X) of a given physical measurement at a particular z-score or percentile, use the following equation:\n",
    "\n",
    "X = M (1 + LSZ)**(1/L), L ≠ 0\n",
    "\n",
    "Or\n",
    "\n",
    "X = M exp(SZ), L = 0\n",
    "\n",
    "where the L, M, and S are the values from the appropriate table corresponding to the age in months of the child (** indicates an exponent, such that M(1+LSZ)**(1/L) means raising (1+LSZ) to the (1/L)th power and then multiplying the M; exp(X) is the exponentiation function, e to the power X). Z is the z-score that corresponds to the percentile. z-scores correspond exactly to percentiles, e.g., z-scores of -1.881, -1.645, -1.282, -0.674, 0, 0.674, 1.036, 1.282, 1.645, and 1.881 correspond to the 3rd, 5th, 10th, 25th, 50th, 75th, 85th, 90th, 95th, and 97th percentiles, respectively.\n",
    "\n",
    "For example, to obtain the 5th percentile of weight-for-age for a 9-month-old male, we would look up the L, M and S values from the WTAGEINF table, which are L=-0.1600954, M=9.476500305, and S=0.11218624. For the 5th percentile, we would use Z=-1.645. Using the equation above, we calculate that the 5th percentile is 7.90 kg.\n",
    "\n",
    "To obtain the z-score (Z) and corresponding percentile for a given measurement (X), use the following equation:\n",
    "\n",
    "((X/M)**L) – 1\n",
    "Z = ————————-, L≠0\n",
    "LS\n",
    "\n",
    "or\n",
    "\n",
    "Z = ln(X/M)/S ,L=0\n",
    "\n",
    "where X is the physical measurement (e.g. weight, length, head circumference, stature or calculated BMI value) and L, M and S are the values from the appropriate table corresponding to the age in months of the child (or length/stature). (X/M)**L means raising the quantity (X/M) to the Lth power.\n",
    "\n",
    "For example, to obtain the weight-for-age z-score of a 9-month-old male who weighs 9.7 kg, we would look up the L, M and S values from the WTAGEINF table, which are L=-0.1600954, M=9.476500305, and S=0.11218624. Using the equation above, we calculate that the z-score for this child is 0.207. This z-score corresponds to the 58th percentile.\n",
    "\n",
    "Z-scores and corresponding percentiles can be obtained from standard normal distribution tables found in statistics text books. Standard normal tables can also be found on the internet by doing a search on a “standard normal table.” In addition, many computer programs have pre-existing functions that convert Z-scores to percentiles and vice versa.\n",
    "\n"
   ]
  },
  {
   "cell_type": "code",
   "execution_count": 3,
   "metadata": {},
   "outputs": [
    {
     "data": {
      "text/html": [
       "<div>\n",
       "<style scoped>\n",
       "    .dataframe tbody tr th:only-of-type {\n",
       "        vertical-align: middle;\n",
       "    }\n",
       "\n",
       "    .dataframe tbody tr th {\n",
       "        vertical-align: top;\n",
       "    }\n",
       "\n",
       "    .dataframe thead th {\n",
       "        text-align: right;\n",
       "    }\n",
       "</style>\n",
       "<table border=\"1\" class=\"dataframe\">\n",
       "  <thead>\n",
       "    <tr style=\"text-align: right;\">\n",
       "      <th></th>\n",
       "      <th>Sex</th>\n",
       "      <th>Agemos</th>\n",
       "      <th>L</th>\n",
       "      <th>M</th>\n",
       "      <th>S</th>\n",
       "      <th>P3</th>\n",
       "      <th>P5</th>\n",
       "      <th>P10</th>\n",
       "      <th>P25</th>\n",
       "      <th>P50</th>\n",
       "      <th>P75</th>\n",
       "      <th>P85</th>\n",
       "      <th>P90</th>\n",
       "      <th>P95</th>\n",
       "      <th>P97</th>\n",
       "    </tr>\n",
       "  </thead>\n",
       "  <tbody>\n",
       "    <tr>\n",
       "      <th>0</th>\n",
       "      <td>1</td>\n",
       "      <td>24</td>\n",
       "      <td>-2.01118107</td>\n",
       "      <td>16.57502768</td>\n",
       "      <td>0.080592465</td>\n",
       "      <td>14.52095333</td>\n",
       "      <td>14.73731947</td>\n",
       "      <td>15.09032827</td>\n",
       "      <td>15.74164233</td>\n",
       "      <td>16.57502768</td>\n",
       "      <td>17.55718781</td>\n",
       "      <td>18.16219473</td>\n",
       "      <td>18.60948128</td>\n",
       "      <td>19.33801062</td>\n",
       "      <td>19.85985812</td>\n",
       "    </tr>\n",
       "    <tr>\n",
       "      <th>1</th>\n",
       "      <td>1</td>\n",
       "      <td>24.5</td>\n",
       "      <td>-1.982373595</td>\n",
       "      <td>16.54777487</td>\n",
       "      <td>0.080127429</td>\n",
       "      <td>14.50347667</td>\n",
       "      <td>14.71929257</td>\n",
       "      <td>15.07117474</td>\n",
       "      <td>15.71962876</td>\n",
       "      <td>16.54777487</td>\n",
       "      <td>17.52129279</td>\n",
       "      <td>18.11954923</td>\n",
       "      <td>18.56110634</td>\n",
       "      <td>19.27889813</td>\n",
       "      <td>19.79194014</td>\n",
       "    </tr>\n",
       "    <tr>\n",
       "      <th>2</th>\n",
       "      <td>1</td>\n",
       "      <td>25.5</td>\n",
       "      <td>-1.924100169</td>\n",
       "      <td>16.49442763</td>\n",
       "      <td>0.079233994</td>\n",
       "      <td>14.46882381</td>\n",
       "      <td>14.68360841</td>\n",
       "      <td>15.03335725</td>\n",
       "      <td>15.67634464</td>\n",
       "      <td>16.49442763</td>\n",
       "      <td>17.45135039</td>\n",
       "      <td>18.03668013</td>\n",
       "      <td>18.46729593</td>\n",
       "      <td>19.16465965</td>\n",
       "      <td>19.66102345</td>\n",
       "    </tr>\n",
       "    <tr>\n",
       "      <th>3</th>\n",
       "      <td>1</td>\n",
       "      <td>26.5</td>\n",
       "      <td>-1.86549793</td>\n",
       "      <td>16.44259552</td>\n",
       "      <td>0.078389356</td>\n",
       "      <td>14.43459737</td>\n",
       "      <td>14.64843329</td>\n",
       "      <td>14.99619505</td>\n",
       "      <td>15.634035</td>\n",
       "      <td>16.44259552</td>\n",
       "      <td>17.38383656</td>\n",
       "      <td>17.95700228</td>\n",
       "      <td>18.37736191</td>\n",
       "      <td>19.05567423</td>\n",
       "      <td>19.5365754</td>\n",
       "    </tr>\n",
       "    <tr>\n",
       "      <th>4</th>\n",
       "      <td>1</td>\n",
       "      <td>27.5</td>\n",
       "      <td>-1.807261899</td>\n",
       "      <td>16.3922434</td>\n",
       "      <td>0.077593501</td>\n",
       "      <td>14.40082828</td>\n",
       "      <td>14.61378626</td>\n",
       "      <td>14.95969047</td>\n",
       "      <td>15.5926798</td>\n",
       "      <td>16.3922434</td>\n",
       "      <td>17.3187102</td>\n",
       "      <td>17.88047101</td>\n",
       "      <td>18.29125345</td>\n",
       "      <td>18.9518675</td>\n",
       "      <td>19.41848805</td>\n",
       "    </tr>\n",
       "  </tbody>\n",
       "</table>\n",
       "</div>"
      ],
      "text/plain": [
       "  Sex Agemos             L            M            S           P3  \\\n",
       "0   1     24   -2.01118107  16.57502768  0.080592465  14.52095333   \n",
       "1   1   24.5  -1.982373595  16.54777487  0.080127429  14.50347667   \n",
       "2   1   25.5  -1.924100169  16.49442763  0.079233994  14.46882381   \n",
       "3   1   26.5   -1.86549793  16.44259552  0.078389356  14.43459737   \n",
       "4   1   27.5  -1.807261899   16.3922434  0.077593501  14.40082828   \n",
       "\n",
       "            P5          P10          P25          P50          P75  \\\n",
       "0  14.73731947  15.09032827  15.74164233  16.57502768  17.55718781   \n",
       "1  14.71929257  15.07117474  15.71962876  16.54777487  17.52129279   \n",
       "2  14.68360841  15.03335725  15.67634464  16.49442763  17.45135039   \n",
       "3  14.64843329  14.99619505    15.634035  16.44259552  17.38383656   \n",
       "4  14.61378626  14.95969047   15.5926798   16.3922434   17.3187102   \n",
       "\n",
       "           P85          P90          P95          P97  \n",
       "0  18.16219473  18.60948128  19.33801062  19.85985812  \n",
       "1  18.11954923  18.56110634  19.27889813  19.79194014  \n",
       "2  18.03668013  18.46729593  19.16465965  19.66102345  \n",
       "3  17.95700228  18.37736191  19.05567423   19.5365754  \n",
       "4  17.88047101  18.29125345   18.9518675  19.41848805  "
      ]
     },
     "execution_count": 3,
     "metadata": {},
     "output_type": "execute_result"
    }
   ],
   "source": [
    "child_bmi_df.head()"
   ]
  },
  {
   "cell_type": "code",
   "execution_count": 22,
   "metadata": {},
   "outputs": [
    {
     "data": {
      "text/html": [
       "<div>\n",
       "<style scoped>\n",
       "    .dataframe tbody tr th:only-of-type {\n",
       "        vertical-align: middle;\n",
       "    }\n",
       "\n",
       "    .dataframe tbody tr th {\n",
       "        vertical-align: top;\n",
       "    }\n",
       "\n",
       "    .dataframe thead th {\n",
       "        text-align: right;\n",
       "    }\n",
       "</style>\n",
       "<table border=\"1\" class=\"dataframe\">\n",
       "  <thead>\n",
       "    <tr style=\"text-align: right;\">\n",
       "      <th></th>\n",
       "      <th>Sex</th>\n",
       "      <th>Agemos</th>\n",
       "      <th>L</th>\n",
       "      <th>M</th>\n",
       "      <th>S</th>\n",
       "      <th>P3</th>\n",
       "      <th>P5</th>\n",
       "      <th>P10</th>\n",
       "      <th>P25</th>\n",
       "      <th>P50</th>\n",
       "      <th>P75</th>\n",
       "      <th>P85</th>\n",
       "      <th>P90</th>\n",
       "      <th>P95</th>\n",
       "      <th>P97</th>\n",
       "    </tr>\n",
       "  </thead>\n",
       "  <tbody>\n",
       "  </tbody>\n",
       "</table>\n",
       "</div>"
      ],
      "text/plain": [
       "Empty DataFrame\n",
       "Columns: [Sex, Agemos, L, M, S, P3, P5, P10, P25, P50, P75, P85, P90, P95, P97]\n",
       "Index: []"
      ]
     },
     "execution_count": 22,
     "metadata": {},
     "output_type": "execute_result"
    }
   ],
   "source": [
    "sex_mask = child_bmi_df[\"Sex\"] == 1\n",
    "age_mask = child_bmi_df[\"Agemos\"] == 24\n",
    "# child_bmi_df[sex_mask & age_mask]\n",
    "child_bmi_df[sex_mask]"
   ]
  },
  {
   "cell_type": "code",
   "execution_count": null,
   "metadata": {},
   "outputs": [],
   "source": [
    "import math\n",
    "def calc_bmi_percentile(gender,age,bmi, bmi_table):\n",
    "    \"\"\"\n",
    "    This is a function that calculates the percentile of a child's BMI and returns their weight category.\n",
    "    \"\"\"\n",
    "    code_gender = 1 if gender == \"Male\" else 2\n",
    "    code_age = age * 12\n",
    "\n",
    "    specific_row = bmi_table[\"Sex\"]\n",
    "    L = bmi_table[\"L\"].where(bmi_table[\"Sex\"]==)\n",
    "    M = bmi_table[\"M\"]\n",
    "    S = bmi_table[\"S\"]\n",
    "\n",
    "    Z = ((bmi/M)**L)-1 / (L*S) if L != 0 else math.log(X/M)/L\n",
    "    percentile = mean + Z*std\n",
    "\n",
    "\n",
    "    c_under = percentile < 5\n",
    "    c_healthy = 5 <= percentile < 85\n",
    "    c_over = 85 <= percentile < 95\n",
    "    c_obese = percentile >= 95\n",
    "\n",
    "    \n",
    "    \n",
    "    return weight_category"
   ]
  },
  {
   "cell_type": "code",
   "execution_count": null,
   "metadata": {},
   "outputs": [],
   "source": [
    "#data transformations:\n",
    "\n",
    "# bucket age 10 year buckets\n",
    "\n",
    "\n",
    "\n",
    "# bucket bmi \n",
    "# under weight, healthy weight, over weight, obese (for adults)\n",
    "adult_weight = 0 # placeholder. I want weight when age is > 20\n",
    "under = (0,18.5)\n",
    "healthy = (18.5,24.9)\n",
    "over = (25.0,29.9)\n",
    "obese = (30.0,100)\n",
    "#  for kids its based on percentile\n",
    "c_percentile = 0 # placeholder. I want weight when age is <= 20\n",
    "# percentile also needs to reflect age group and gender\n",
    "c_under = c_percentile < 5\n",
    "c_healthy = 5 <= c_percentile < 85\n",
    "c_over = 85 <= c_percentile < 95\n",
    "c_obese = c_percentile >= 95"
   ]
  }
 ],
 "metadata": {
  "kernelspec": {
   "display_name": "Python 3",
   "language": "python",
   "name": "python3"
  },
  "language_info": {
   "codemirror_mode": {
    "name": "ipython",
    "version": 3
   },
   "file_extension": ".py",
   "mimetype": "text/x-python",
   "name": "python",
   "nbconvert_exporter": "python",
   "pygments_lexer": "ipython3",
   "version": "3.10.2"
  },
  "orig_nbformat": 4
 },
 "nbformat": 4,
 "nbformat_minor": 2
}
